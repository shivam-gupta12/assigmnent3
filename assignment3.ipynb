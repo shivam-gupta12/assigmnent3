{
 "cells": [
  {
   "cell_type": "code",
   "execution_count": 23,
   "id": "25e0d4a5-88d0-4b68-9bce-b9ea614e8271",
   "metadata": {},
   "outputs": [
    {
     "name": "stdout",
     "output_type": "stream",
     "text": [
      "1\n",
      "2\n",
      "3\n",
      "1\n",
      "2\n",
      "3\n",
      "4\n",
      "5\n"
     ]
    }
   ],
   "source": [
    "#question1\n",
    "#For loop: A for loop is a control flow statement that executes code repeatedly for a particular number of iterations. \n",
    "#In this control flow statement, the keyword used is for. The for loop is used when the number of iterations is already known.\n",
    "n = [1, 2, 3]  # Initialization\n",
    "for i in n:  # Condition and Updation\n",
    "    print(i)\n",
    "#While loop: A loop that executes a single statement or a group of statements for the given true condition. \n",
    "#The keyword used to represent this loop is \"while\". A \"while\" loop is used when the number of iterations is unknown. \n",
    "#The statement repeats itself till the boolean value becomes false. \n",
    "#In a while loop, the condition is tested at the start, also known as the pre-test loop.\n",
    "i = 1  # Initialization\n",
    "while i < 6:  # Condition\n",
    "    print(i)\n",
    "    i += 1  # Updation"
   ]
  },
  {
   "cell_type": "code",
   "execution_count": 7,
   "id": "b35c09f6-b022-4f07-b9fb-192a3dbfe797",
   "metadata": {},
   "outputs": [
    {
     "name": "stdout",
     "output_type": "stream",
     "text": [
      "The sum of first 10 natural numbers is:  55\n",
      "The product of first 10 natural numbers is:  3628800\n"
     ]
    }
   ],
   "source": [
    "#question2\n",
    "sum=0\n",
    "product=1\n",
    "for i in range(1,11):\n",
    "    sum+=i\n",
    "    product*=i\n",
    "print(\"The sum of first 10 natural numbers is: \",sum)\n",
    "print(\"The product of first 10 natural numbers is: \",product)\n",
    "\n",
    "    "
   ]
  },
  {
   "cell_type": "code",
   "execution_count": 13,
   "id": "f35bc39d-a584-4236-aa7f-fcd8cf370510",
   "metadata": {},
   "outputs": [
    {
     "name": "stdin",
     "output_type": "stream",
     "text": [
      "Enter the units of electricity consumed 310\n"
     ]
    },
    {
     "name": "stdout",
     "output_type": "stream",
     "text": [
      "the cost of electricity per month is:  2250\n"
     ]
    }
   ],
   "source": [
    "#question 3\n",
    "units=int(input(\"Enter the units of electricity consumed\"))\n",
    "cost=0\n",
    "# cost_for_first_100_units=4.5\n",
    "# cost_for_next_100_units=6\n",
    "# cost_for_next_next_100_units=10\n",
    "# after_300_units=20\n",
    "if units<=100:\n",
    "    cost=units*450\n",
    "    print(\"the cost of electricity per month is: \",cost)\n",
    "elif units>100 and units<=200:\n",
    "    cost=450+((units-100)*6)\n",
    "    print(\"the cost of electricity per month is: \",cost)\n",
    "elif units>200 and units<=300:\n",
    "    cost=450+600+((units-200)*10)\n",
    "    print(\"the cost of electricity per month is: \",cost)\n",
    "else:\n",
    "    cost=450+600+1000+((units-300)*20)\n",
    "    print(\"the cost of electricity per month is: \",cost)\n",
    "    \n"
   ]
  },
  {
   "cell_type": "code",
   "execution_count": 5,
   "id": "ecccfd34-9860-4098-a6c7-c89cda622d46",
   "metadata": {},
   "outputs": [
    {
     "name": "stdout",
     "output_type": "stream",
     "text": [
      "[2, 4, 5, 6, 8, 10, 12, 14, 15, 16, 18, 20, 22, 24, 25, 26, 28, 30, 32, 34, 35, 36, 38, 40, 42, 44, 45, 46, 48, 50, 52, 54, 55, 56, 58, 60, 62, 64, 65, 66, 68, 70, 72, 74, 75, 76, 78, 80, 82, 84, 85, 86, 88, 90, 92, 94, 95, 96, 98, 100]\n"
     ]
    }
   ],
   "source": [
    "#question 4\n",
    "list1=[]\n",
    "list2=list(range(1,101))\n",
    "for i in list2:\n",
    "    if (i**3)%4==0 or (i**3)%5==0:\n",
    "        list1.append(i)\n",
    "print(list1)\n"
   ]
  },
  {
   "cell_type": "code",
   "execution_count": 20,
   "id": "c33e18c5-f1f5-468a-ae91-97b8e5c37794",
   "metadata": {},
   "outputs": [
    {
     "name": "stdout",
     "output_type": "stream",
     "text": [
      "12\n"
     ]
    }
   ],
   "source": [
    "#question 5\n",
    "count=0\n",
    "vowels=['a','e','i','o','u','A','E','I','O','U']\n",
    "string=\"I want to become a data scientist\"\n",
    "for i in string:\n",
    "    j=string.index(i)\n",
    "    if string[j] in vowels:\n",
    "        count=count+1\n",
    "print(count)\n",
    "        "
   ]
  },
  {
   "cell_type": "code",
   "execution_count": null,
   "id": "a481ff8b-6f1e-43ec-a8f9-cfe8a4da48b1",
   "metadata": {},
   "outputs": [],
   "source": []
  },
  {
   "cell_type": "code",
   "execution_count": null,
   "id": "226f7f53-d74b-4163-8135-d08cf3920a9c",
   "metadata": {},
   "outputs": [],
   "source": []
  }
 ],
 "metadata": {
  "kernelspec": {
   "display_name": "Python 3 (ipykernel)",
   "language": "python",
   "name": "python3"
  },
  "language_info": {
   "codemirror_mode": {
    "name": "ipython",
    "version": 3
   },
   "file_extension": ".py",
   "mimetype": "text/x-python",
   "name": "python",
   "nbconvert_exporter": "python",
   "pygments_lexer": "ipython3",
   "version": "3.10.8"
  }
 },
 "nbformat": 4,
 "nbformat_minor": 5
}
